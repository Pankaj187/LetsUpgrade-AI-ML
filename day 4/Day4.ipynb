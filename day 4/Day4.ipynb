{
 "cells": [
  {
   "cell_type": "markdown",
   "metadata": {},
   "source": [
    "**Question 1**<br>\n",
    "floor division cant be performed on the complex numbers.<br>\n",
    "all other operations like addition,subtraction,multiplication,division can be performed on the complex numbers."
   ]
  },
  {
   "cell_type": "code",
   "execution_count": 12,
   "metadata": {},
   "outputs": [
    {
     "name": "stdout",
     "output_type": "stream",
     "text": [
      "(5+4j)  +  (10+8j)  =  (15+12j)\n",
      "(5+4j)  -  (10+8j)  =  (-5-4j)\n",
      "(5+4j)  *  (10+8j)  =  (18+80j)\n",
      "(10+8j)  /  (5+4j)  =  (2+0j)\n",
      "(5+4j)  + 3 =  (8+4j)\n",
      "(5+4j)  - 3 =  (2+4j)\n",
      "(5+4j)  * 3 =  (15+12j)\n",
      "(5+4j)  / 3 =  (1.6666666666666667+1.3333333333333333j)\n"
     ]
    }
   ],
   "source": [
    "a=5+4j\n",
    "b=10+8j\n",
    "print(a,\" + \",b,\" = \",a+b)\n",
    "print(a,\" - \",b,\" = \",a-b)\n",
    "print(a,\" * \",b,\" = \",a*b)\n",
    "print(b,\" / \",a,\" = \",b/a)\n",
    "print(a,\" + 3 = \",a+3)\n",
    "print(a,\" - 3 = \",a-3)\n",
    "print(a,\" * 3 = \",a*3)\n",
    "print(a,\" / 3 = \",a/3)"
   ]
  },
  {
   "cell_type": "markdown",
   "metadata": {},
   "source": [
    "***Question 2***<br>"
   ]
  },
  {
   "cell_type": "markdown",
   "metadata": {},
   "source": [
    "***range(start,stop[,steps]):*** its gives sequence of number starting from start to stop-1.<br>\n",
    "range function takes 3 parametres out of these three parameters third parametere step is optional(it take its by default value as 1)<br>\n",
    "**start:** its give starting value of sequence<br>\n",
    "**stop:** it is value less than 1 by last value of sequence<br>\n",
    "**steps:** it gives difference between two consecutive numbers in the sequence(by default it is 1)<br>\n"
   ]
  },
  {
   "cell_type": "code",
   "execution_count": 14,
   "metadata": {},
   "outputs": [
    {
     "name": "stdout",
     "output_type": "stream",
     "text": [
      "a =  [1, 2, 3, 4, 5, 6, 7, 8]\n",
      "b =  [1, 3, 5, 7]\n"
     ]
    }
   ],
   "source": [
    "a=list(range(1,9))\n",
    "print(\"a = \",a)\n",
    "b=list(range(1,9,2))\n",
    "print(\"b = \",b)"
   ]
  },
  {
   "cell_type": "markdown",
   "metadata": {},
   "source": [
    "**Question 3**"
   ]
  },
  {
   "cell_type": "code",
   "execution_count": 16,
   "metadata": {},
   "outputs": [
    {
     "name": "stdout",
     "output_type": "stream",
     "text": [
      "enter first number : 8\n",
      "enter second number : 2\n",
      "division of  8 / 2  :  4.0\n"
     ]
    }
   ],
   "source": [
    "a=int(input(\"enter first number : \"))\n",
    "b=int(input(\"enter second number : \"))\n",
    "if abs(a-b)>25:\n",
    "    print(\"multiplication : \",a*b)\n",
    "else:\n",
    "    print(\"division of \",a,\"/\",b,\" : \",a/b)"
   ]
  },
  {
   "cell_type": "markdown",
   "metadata": {},
   "source": [
    "**Question 4**"
   ]
  },
  {
   "cell_type": "code",
   "execution_count": 19,
   "metadata": {},
   "outputs": [
    {
     "name": "stdout",
     "output_type": "stream",
     "text": [
      "2 ^2 - 2 :  2\n",
      "4 ^2 - 2 :  14\n",
      "6 ^2 - 2 :  34\n",
      "8 ^2 - 2 :  62\n",
      "10 ^2 - 2 :  98\n"
     ]
    }
   ],
   "source": [
    "import math\n",
    "a=list(range(1,11))\n",
    "for i in a:\n",
    "    if i%2==0:\n",
    "        print(i,\"^2 - 2 : \", pow(i,2)-2)\n",
    "\n",
    "        "
   ]
  },
  {
   "cell_type": "markdown",
   "metadata": {},
   "source": [
    "**Question 5**"
   ]
  },
  {
   "cell_type": "code",
   "execution_count": 22,
   "metadata": {},
   "outputs": [
    {
     "name": "stdout",
     "output_type": "stream",
     "text": [
      "8\n",
      "10\n",
      "12\n",
      "14\n"
     ]
    }
   ],
   "source": [
    "a=list(range(5,15))\n",
    "for i in a:\n",
    "    if i>7 and i%2==0:\n",
    "        print(i)"
   ]
  },
  {
   "cell_type": "code",
   "execution_count": null,
   "metadata": {},
   "outputs": [],
   "source": []
  }
 ],
 "metadata": {
  "kernelspec": {
   "display_name": "Python 3",
   "language": "python",
   "name": "python3"
  },
  "language_info": {
   "codemirror_mode": {
    "name": "ipython",
    "version": 3
   },
   "file_extension": ".py",
   "mimetype": "text/x-python",
   "name": "python",
   "nbconvert_exporter": "python",
   "pygments_lexer": "ipython3",
   "version": "3.7.6"
  }
 },
 "nbformat": 4,
 "nbformat_minor": 4
}
