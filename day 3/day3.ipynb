{
 "cells": [
  {
   "cell_type": "raw",
   "metadata": {},
   "source": [
    "Question 1"
   ]
  },
  {
   "cell_type": "code",
   "execution_count": 1,
   "metadata": {},
   "outputs": [
    {
     "name": "stdout",
     "output_type": "stream",
     "text": [
      "(11+10j)\n"
     ]
    }
   ],
   "source": [
    "a=5+4j\n",
    "b=6+6j\n",
    "print(a+b)"
   ]
  },
  {
   "cell_type": "raw",
   "metadata": {},
   "source": [
    "Question 2"
   ]
  },
  {
   "cell_type": "code",
   "execution_count": 3,
   "metadata": {},
   "outputs": [
    {
     "name": "stdout",
     "output_type": "stream",
     "text": [
      "1.5650845800732873\n"
     ]
    }
   ],
   "source": [
    "import math\n",
    "a=6\n",
    "print(math.sqrt(math.sqrt(a)))"
   ]
  },
  {
   "cell_type": "markdown",
   "metadata": {},
   "source": [
    "question 3"
   ]
  },
  {
   "cell_type": "code",
   "execution_count": 4,
   "metadata": {},
   "outputs": [
    {
     "name": "stdout",
     "output_type": "stream",
     "text": [
      "a=  4   b= 3\n"
     ]
    }
   ],
   "source": [
    "a=3\n",
    "b=4\n",
    "t=a\n",
    "a=b\n",
    "b=t\n",
    "print(\"a= \",a,\"  b=\",b)"
   ]
  },
  {
   "cell_type": "markdown",
   "metadata": {},
   "source": [
    "question 4"
   ]
  },
  {
   "cell_type": "code",
   "execution_count": 7,
   "metadata": {},
   "outputs": [
    {
     "name": "stdout",
     "output_type": "stream",
     "text": [
      "a=  4   b= 3\n"
     ]
    }
   ],
   "source": [
    "a=3\n",
    "b=4\n",
    "a,b=b,a\n",
    "print(\"a= \",a,\"  b=\",b)"
   ]
  },
  {
   "cell_type": "markdown",
   "metadata": {},
   "source": [
    "question 5"
   ]
  },
  {
   "cell_type": "code",
   "execution_count": 6,
   "metadata": {},
   "outputs": [
    {
     "name": "stdout",
     "output_type": "stream",
     "text": [
      "celsius tempreture:  0     kelvin tempreture:  328.7055555555555\n"
     ]
    }
   ],
   "source": [
    "farenheight_temp=32\n",
    "celsius_temp=farenheight_temp-32\n",
    "kelvin_temp=(farenheight_temp+559.67)*5/9\n",
    "print(\"celsius tempreture: \",celsius_temp,\"    kelvin tempreture: \",kelvin_temp)"
   ]
  },
  {
   "cell_type": "markdown",
   "metadata": {},
   "source": [
    "question 6"
   ]
  },
  {
   "cell_type": "code",
   "execution_count": 14,
   "metadata": {},
   "outputs": [
    {
     "name": "stdout",
     "output_type": "stream",
     "text": [
      "type of a:  <class 'int'>\n",
      "type of b:  <class 'float'>\n",
      "type of c:  <class 'str'>\n",
      "type of d:  <class 'tuple'>\n",
      "type of e:  <class 'list'>\n",
      "type of f:  <class 'set'>\n",
      "type of g:  <class 'dict'>\n"
     ]
    }
   ],
   "source": [
    "a=5\n",
    "print(\"type of a: \",type(a))\n",
    "b=5.6\n",
    "print(\"type of b: \",type(b))\n",
    "c=\"pankaj\"\n",
    "print(\"type of c: \",type(c))\n",
    "d=(1,2,3,4)\n",
    "print(\"type of d: \",type(d))\n",
    "e=[1,2,3,4]\n",
    "print(\"type of e: \",type(e))\n",
    "f={1,2,3,4}\n",
    "print(\"type of f: \",type(f))\n",
    "g={\"a\":\"b\"}\n",
    "print(\"type of g: \",type(g))"
   ]
  },
  {
   "cell_type": "markdown",
   "metadata": {},
   "source": [
    "question 7"
   ]
  },
  {
   "cell_type": "markdown",
   "metadata": {},
   "source": [
    "**Assignment Submission Link : https://bit.ly/aimlassignment**\n",
    "\n",
    "**GitHub Folder for AI ML Assignments : https://github.com/LetsUpgrade/AI-ML-July-2020**\n",
    "\n",
    "***How to submit Assignments?***\n",
    "\n",
    "Create a Github public repo and name it LetsUpgrade AI/ML<br>\n",
    "Upload the files/solution in the repo in day wise manner.<br>\n",
    "Copy the URL of the Folder of that day and paste in the Assignment Submission Form (Google Form)<br>\n",
    "Make sure you are filling correct details in the Assignment Submission Form.<br>\n",
    "All the drop-downs will be available till the week end only. i.e Previous weeks drop-down will disappear on each Sunday 11:59 PM<br>\n",
    "You have to submit all the assignment given during the weekdays by respective SUNDAY 11:59 PM IST.<br>"
   ]
  },
  {
   "cell_type": "code",
   "execution_count": null,
   "metadata": {},
   "outputs": [],
   "source": []
  }
 ],
 "metadata": {
  "kernelspec": {
   "display_name": "Python 3",
   "language": "python",
   "name": "python3"
  },
  "language_info": {
   "codemirror_mode": {
    "name": "ipython",
    "version": 3
   },
   "file_extension": ".py",
   "mimetype": "text/x-python",
   "name": "python",
   "nbconvert_exporter": "python",
   "pygments_lexer": "ipython3",
   "version": "3.7.6"
  }
 },
 "nbformat": 4,
 "nbformat_minor": 4
}
