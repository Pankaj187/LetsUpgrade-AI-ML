{
 "cells": [
  {
   "cell_type": "markdown",
   "metadata": {},
   "source": [
    "***Question 1***"
   ]
  },
  {
   "cell_type": "code",
   "execution_count": 26,
   "metadata": {},
   "outputs": [
    {
     "name": "stdout",
     "output_type": "stream",
     "text": [
      "enter gmail address :ganesh@tcs.com\n",
      "tcs\n"
     ]
    }
   ],
   "source": [
    "def extract(str1) :\n",
    "    str1= str(str1)\n",
    "    str2 = str1.split(\"@\",2)\n",
    "    username = str2[0]\n",
    "    str4 = str2[1].split(\".\",2)\n",
    "    company = str4[0]\n",
    "    print(company)\n",
    "\n",
    "str1 = input(\"enter gmail address :\")\n",
    "extract(str1)"
   ]
  },
  {
   "cell_type": "markdown",
   "metadata": {},
   "source": [
    "***Question 2***"
   ]
  },
  {
   "cell_type": "code",
   "execution_count": 8,
   "metadata": {},
   "outputs": [
    {
     "name": "stdout",
     "output_type": "stream",
     "text": [
      "enter coma separted word sequence : raj,aakash,amar\n",
      "output aakash,amar,raj\n"
     ]
    }
   ],
   "source": [
    "def sort(str1) :\n",
    "    str1= str(str1)\n",
    "    str2 = str1.split(\",\")\n",
    "    str2.sort()\n",
    "    print(\"output\",\",\".join(str2))\n",
    "str1= input(\"enter coma separted word sequence : \")\n",
    "sort(str1)"
   ]
  },
  {
   "cell_type": "markdown",
   "metadata": {},
   "source": [
    "***Question 4***"
   ]
  },
  {
   "cell_type": "code",
   "execution_count": 6,
   "metadata": {},
   "outputs": [
    {
     "name": "stdout",
     "output_type": "stream",
     "text": [
      "Enter the numbers seperated by space: 1 2 3 4 6\n",
      "Output: 5\n"
     ]
    }
   ],
   "source": [
    "def missed(x):\n",
    "    y=x.count(\" \")\n",
    "    for i in range(y):\n",
    "        x.remove(\" \")\n",
    "    x=[int(i) for i in x]\n",
    "    x.sort()\n",
    "    n=len(x)\n",
    "    total=int((n+1)*(n+2)/2)\n",
    "    sum_x=sum(x)\n",
    "    return total-sum_x\n",
    "\n",
    "x=list(input(\"Enter the numbers seperated by space: \"))\n",
    "missing_number=missed(x)\n",
    "print(\"Output:\",missing_number)"
   ]
  },
  {
   "cell_type": "markdown",
   "metadata": {},
   "source": [
    "***Question 5***"
   ]
  },
  {
   "cell_type": "code",
   "execution_count": 7,
   "metadata": {},
   "outputs": [
    {
     "name": "stdout",
     "output_type": "stream",
     "text": [
      "Enter elements in the list: 1 2 2 3 4 5\n",
      "Output: 1 2 3 4 5\n"
     ]
    }
   ],
   "source": [
    "l1=input(\"Enter elements in the list: \").split()\n",
    "l2=[]\n",
    "for i in l1:\n",
    "    if i not in l2:\n",
    "        l2.append(i)\n",
    "print(\"Output:\",*l2)"
   ]
  },
  {
   "cell_type": "code",
   "execution_count": null,
   "metadata": {},
   "outputs": [],
   "source": []
  }
 ],
 "metadata": {
  "kernelspec": {
   "display_name": "Python 3",
   "language": "python",
   "name": "python3"
  },
  "language_info": {
   "codemirror_mode": {
    "name": "ipython",
    "version": 3
   },
   "file_extension": ".py",
   "mimetype": "text/x-python",
   "name": "python",
   "nbconvert_exporter": "python",
   "pygments_lexer": "ipython3",
   "version": "3.7.6"
  }
 },
 "nbformat": 4,
 "nbformat_minor": 4
}
