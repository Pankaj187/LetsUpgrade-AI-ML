{
 "cells": [
  {
   "cell_type": "markdown",
   "metadata": {},
   "source": [
    "**Question 1**"
   ]
  },
  {
   "cell_type": "code",
   "execution_count": 9,
   "metadata": {},
   "outputs": [
    {
     "name": "stdout",
     "output_type": "stream",
     "text": [
      "first 20 non even prime number :\n",
      "3\n",
      "5\n",
      "7\n",
      "11\n",
      "13\n",
      "17\n",
      "19\n",
      "23\n",
      "29\n",
      "31\n",
      "37\n",
      "41\n",
      "43\n",
      "47\n",
      "53\n",
      "59\n",
      "61\n",
      "67\n",
      "71\n",
      "73\n"
     ]
    }
   ],
   "source": [
    "def isprime(a) :\n",
    "    if a in (0,1,2) :\n",
    "        return False\n",
    "    else :\n",
    "        flag =True \n",
    "        for i in range(2,a) :\n",
    "            if a%i==0 :\n",
    "                flag=False\n",
    "        return flag\n",
    "cnt=0\n",
    "i=3\n",
    "print(\"first 20 non even prime number :\")\n",
    "while cnt<20 :\n",
    "    if isprime(i) :\n",
    "        print(i)\n",
    "        cnt=cnt+1\n",
    "    i=i+1\n",
    "\n",
    "    \n",
    "        "
   ]
  },
  {
   "cell_type": "markdown",
   "metadata": {},
   "source": [
    "**Question 2**"
   ]
  },
  {
   "cell_type": "code",
   "execution_count": 33,
   "metadata": {},
   "outputs": [
    {
     "name": "stdout",
     "output_type": "stream",
     "text": [
      "original string :  lets upgrade \n",
      "\n",
      "string capitalized :  Lets upgrade\n",
      "string title :  Lets Upgrade\n",
      "is string title :  False\n",
      " is string uppercase :  False\n",
      "is string in lower case:  lets upgrade\n",
      "string in upper case:  LETS UPGRADE\n",
      "index of first occurance of e in string :  1\n",
      "does string end with e :  True\n",
      "switched case string :  LETS UPGRADE\n",
      "does string start with l :  True\n",
      "is string alphanumeric :  False\n",
      "is string digit :  False\n",
      "is string decimal number :  False\n",
      "is string space :  False\n",
      "replacing e by E in string :  lEts upgradE\n",
      "index of \"up\" in string :  5\n"
     ]
    }
   ],
   "source": [
    "str1=\"lets upgrade\"\n",
    "print(\"original string : \",str1,\"\\n\")\n",
    "print(\"string capitalized : \",str1.capitalize())\n",
    "print(\"string title : \",str1.title())\n",
    "print(\"is string title : \",str1.istitle())\n",
    "print(\" is string uppercase : \",str1.isupper())\n",
    "print(\"is string in lower case: \",str1.lower())\n",
    "print(\"string in upper case: \",str1.upper())\n",
    "print(\"index of first occurance of e in string : \",str1.find(\"e\"))\n",
    "print(\"does string end with e : \",str1.endswith(\"e\"))\n",
    "print(\"switched case string : \",str1.swapcase())\n",
    "print(\"does string start with l : \",str1.startswith(\"l\"))\n",
    "print(\"is string alphanumeric : \",str1.isalnum())\n",
    "print(\"is string digit : \",str1.isdigit())\n",
    "print(\"is string decimal number : \",str1.isdecimal())\n",
    "print(\"is string space : \",str1.isspace())\n",
    "print(\"replacing e by E in string : \",str1.replace(\"e\" , \"E\"))\n",
    "print(\"index of \\\"up\\\" in string : \",str1.index(\"up\"))"
   ]
  },
  {
   "cell_type": "code",
   "execution_count": 34,
   "metadata": {},
   "outputs": [
    {
     "name": "stdout",
     "output_type": "stream",
     "text": [
      "enter string : madam\n",
      "madam  is palindrome\n"
     ]
    }
   ],
   "source": [
    "def ispalindrome(str1) :\n",
    "    if str1==str1[::-1] :\n",
    "        print( str1,\" is palindrome\")\n",
    "    else :\n",
    "        print( str1,\" is not palindrome\")\n",
    "a=input(\"enter string : \")\n",
    "ispalindrome(a)"
   ]
  },
  {
   "cell_type": "markdown",
   "metadata": {},
   "source": [
    "**Question 4**"
   ]
  },
  {
   "cell_type": "code",
   "execution_count": 37,
   "metadata": {},
   "outputs": [
    {
     "name": "stdout",
     "output_type": "stream",
     "text": [
      "enter a string : lets @upgrade\n",
      "string after removal of extra characters :  letsupgrade\n"
     ]
    }
   ],
   "source": [
    "def removeextrachar(str1) :\n",
    "    str2=\"\"\n",
    "    for i in range(len(str1)):\n",
    "        a=str1[i]\n",
    "        if a.isalpha() or a.isdigit() :\n",
    "            str2+=a\n",
    "            continue\n",
    "    return str2\n",
    "str1=input(\"enter a string : \")\n",
    "print(\"string after removal of extra characters : \",removeextrachar(str1))"
   ]
  },
  {
   "cell_type": "code",
   "execution_count": null,
   "metadata": {},
   "outputs": [],
   "source": []
  }
 ],
 "metadata": {
  "kernelspec": {
   "display_name": "Python 3",
   "language": "python",
   "name": "python3"
  },
  "language_info": {
   "codemirror_mode": {
    "name": "ipython",
    "version": 3
   },
   "file_extension": ".py",
   "mimetype": "text/x-python",
   "name": "python",
   "nbconvert_exporter": "python",
   "pygments_lexer": "ipython3",
   "version": "3.7.6"
  }
 },
 "nbformat": 4,
 "nbformat_minor": 4
}
